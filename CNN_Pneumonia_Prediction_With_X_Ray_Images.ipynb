{
  "nbformat": 4,
  "nbformat_minor": 0,
  "metadata": {
    "colab": {
      "name": " CNN - Pneumonia Prediction With X-Ray Images.ipynb",
      "provenance": [],
      "collapsed_sections": []
    },
    "kernelspec": {
      "name": "python3",
      "display_name": "Python 3"
    },
    "accelerator": "GPU"
  },
  "cells": [
    {
      "cell_type": "code",
      "metadata": {
        "id": "fJzCVLKqmcvr",
        "colab_type": "code",
        "outputId": "75f07edb-79b8-4c32-85f3-864289a02237",
        "colab": {
          "base_uri": "https://localhost:8080/",
          "height": 224
        }
      },
      "source": [
        "!pip install kaggle"
      ],
      "execution_count": 1,
      "outputs": [
        {
          "output_type": "stream",
          "text": [
            "Requirement already satisfied: kaggle in /usr/local/lib/python3.6/dist-packages (1.5.6)\n",
            "Requirement already satisfied: six>=1.10 in /usr/local/lib/python3.6/dist-packages (from kaggle) (1.12.0)\n",
            "Requirement already satisfied: python-dateutil in /usr/local/lib/python3.6/dist-packages (from kaggle) (2.8.1)\n",
            "Requirement already satisfied: tqdm in /usr/local/lib/python3.6/dist-packages (from kaggle) (4.38.0)\n",
            "Requirement already satisfied: certifi in /usr/local/lib/python3.6/dist-packages (from kaggle) (2020.4.5.1)\n",
            "Requirement already satisfied: requests in /usr/local/lib/python3.6/dist-packages (from kaggle) (2.23.0)\n",
            "Requirement already satisfied: python-slugify in /usr/local/lib/python3.6/dist-packages (from kaggle) (4.0.0)\n",
            "Requirement already satisfied: urllib3<1.25,>=1.21.1 in /usr/local/lib/python3.6/dist-packages (from kaggle) (1.24.3)\n",
            "Requirement already satisfied: chardet<4,>=3.0.2 in /usr/local/lib/python3.6/dist-packages (from requests->kaggle) (3.0.4)\n",
            "Requirement already satisfied: idna<3,>=2.5 in /usr/local/lib/python3.6/dist-packages (from requests->kaggle) (2.9)\n",
            "Requirement already satisfied: text-unidecode>=1.3 in /usr/local/lib/python3.6/dist-packages (from python-slugify->kaggle) (1.3)\n"
          ],
          "name": "stdout"
        }
      ]
    },
    {
      "cell_type": "code",
      "metadata": {
        "id": "bjiwUFkWnaYc",
        "colab_type": "code",
        "outputId": "127ddd8c-027b-4362-b670-109b6382b3c6",
        "colab": {
          "resources": {
            "http://localhost:8080/nbextensions/google.colab/files.js": {
              "data": "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",
              "ok": true,
              "headers": [
                [
                  "content-type",
                  "application/javascript"
                ]
              ],
              "status": 200,
              "status_text": ""
            }
          },
          "base_uri": "https://localhost:8080/",
          "height": 88
        }
      },
      "source": [
        "from google.colab import files\n",
        "files.upload()"
      ],
      "execution_count": 2,
      "outputs": [
        {
          "output_type": "display_data",
          "data": {
            "text/html": [
              "\n",
              "     <input type=\"file\" id=\"files-d20c0c75-abaa-44d0-9cce-1b5c2f8b73f4\" name=\"files[]\" multiple disabled />\n",
              "     <output id=\"result-d20c0c75-abaa-44d0-9cce-1b5c2f8b73f4\">\n",
              "      Upload widget is only available when the cell has been executed in the\n",
              "      current browser session. Please rerun this cell to enable.\n",
              "      </output>\n",
              "      <script src=\"/nbextensions/google.colab/files.js\"></script> "
            ],
            "text/plain": [
              "<IPython.core.display.HTML object>"
            ]
          },
          "metadata": {
            "tags": []
          }
        },
        {
          "output_type": "stream",
          "text": [
            "Saving kaggle.json to kaggle.json\n"
          ],
          "name": "stdout"
        },
        {
          "output_type": "execute_result",
          "data": {
            "text/plain": [
              "{'kaggle.json': b'{\"username\":\"matrikasubedi\",\"key\":\"a84a0fc56738f34df5e5a05dc85d333a\"}'}"
            ]
          },
          "metadata": {
            "tags": []
          },
          "execution_count": 2
        }
      ]
    },
    {
      "cell_type": "code",
      "metadata": {
        "id": "c9z2Mc6-neSV",
        "colab_type": "code",
        "colab": {}
      },
      "source": [
        "!mkdir -p ~/.kaggle\n",
        "!cp kaggle.json ~/.kaggle/\n",
        "\n",
        "#change the permission\n",
        "!chmod 600 ~/.kaggle/kaggle.json"
      ],
      "execution_count": 0,
      "outputs": []
    },
    {
      "cell_type": "code",
      "metadata": {
        "id": "DDdUmzNOnjuk",
        "colab_type": "code",
        "outputId": "b358159e-5c7f-4449-86a0-fb3ed0908e0b",
        "colab": {
          "base_uri": "https://localhost:8080/",
          "height": 68
        }
      },
      "source": [
        "!kaggle datasets download -d paultimothymooney/chest-xray-pneumonia"
      ],
      "execution_count": 4,
      "outputs": [
        {
          "output_type": "stream",
          "text": [
            "Downloading chest-xray-pneumonia.zip to /content\n",
            "100% 2.29G/2.29G [00:41<00:00, 63.3MB/s]\n",
            "100% 2.29G/2.29G [00:41<00:00, 59.5MB/s]\n"
          ],
          "name": "stdout"
        }
      ]
    },
    {
      "cell_type": "code",
      "metadata": {
        "id": "I0TU6MCInp6a",
        "colab_type": "code",
        "outputId": "a28b8659-14e8-4159-a259-fb7c800539db",
        "colab": {
          "base_uri": "https://localhost:8080/",
          "height": 34
        }
      },
      "source": [
        "from zipfile import ZipFile\n",
        "file_name = \"chest-xray-pneumonia.zip\"\n",
        "\n",
        "with ZipFile(file_name,'r') as zip:\n",
        " zip.extractall()\n",
        " print('Done')"
      ],
      "execution_count": 5,
      "outputs": [
        {
          "output_type": "stream",
          "text": [
            "Done\n"
          ],
          "name": "stdout"
        }
      ]
    },
    {
      "cell_type": "code",
      "metadata": {
        "id": "4_pCerteoNOD",
        "colab_type": "code",
        "colab": {}
      },
      "source": [
        "import numpy as np\n",
        "import tensorflow as tf\n",
        "import pandas as pd\n",
        "import cv2\n",
        "import glob\n",
        "import matplotlib.pyplot as plt\n",
        "import random\n",
        "from random import randint\n",
        "from pathlib import Path\n",
        "import os\n"
      ],
      "execution_count": 0,
      "outputs": []
    },
    {
      "cell_type": "code",
      "metadata": {
        "id": "RjqejnltnwcJ",
        "colab_type": "code",
        "colab": {}
      },
      "source": [
        "train_dir = \"/content/chest_xray/chest_xray/train\"\n",
        "test_dir =  \"/content/chest_xray/chest_xray/test\"\n",
        "X = []\n",
        "Y = []\n",
        "\n",
        "#Loop through the training and test folders, as well as the 'NORMAL' and 'PNEUMONIA' subfolders and append all images into array X.  Append the classification (0 or 1) into array Y.\n",
        "\n",
        "for fileName in os.listdir(train_dir + \"/NORMAL\"): \n",
        "        img = cv2.imread(train_dir + \"/NORMAL/\" + fileName)\n",
        "        if img is not None:\n",
        "            Y.append(0)\n",
        "            img = cv2.resize(img,(64,64))\n",
        "            X.append(img)\n",
        "    \n",
        "for fileName in os.listdir(train_dir + \"/PNEUMONIA\"): \n",
        "        img = cv2.imread(train_dir + \"/PNEUMONIA/\" + fileName)\n",
        "        if img is not None:\n",
        "            Y.append(1)\n",
        "            img = cv2.resize(img,(64,64))\n",
        "            X.append(img)\n",
        "\n",
        "for fileName in os.listdir(test_dir + \"/NORMAL\"): \n",
        "        img = cv2.imread(test_dir + \"/NORMAL/\" + fileName)\n",
        "        if img is not None:\n",
        "            Y.append(0)\n",
        "            img = cv2.resize(img,(64,64))\n",
        "            X.append(img)\n",
        "    \n",
        "for fileName in os.listdir(test_dir + \"/PNEUMONIA\"): \n",
        "        img = cv2.imread(test_dir + \"/PNEUMONIA/\" + fileName)\n",
        "        if img is not None:\n",
        "            Y.append(1)\n",
        "            img = cv2.resize(img,(64,64))\n",
        "            X.append(img)"
      ],
      "execution_count": 0,
      "outputs": []
    },
    {
      "cell_type": "code",
      "metadata": {
        "id": "U05u19g8ri2S",
        "colab_type": "code",
        "outputId": "04cb9c66-f27a-40fb-daa3-2e05097a8511",
        "colab": {
          "base_uri": "https://localhost:8080/",
          "height": 282
        }
      },
      "source": [
        "print(\"This is an example of a patient X-ray who does not have pneumonia:\")\n",
        "normal = cv2.imread(test_dir + \"/NORMAL/IM-0003-0001.jpeg\")\n",
        "plt.axis('off')\n",
        "plt.imshow(normal)"
      ],
      "execution_count": 8,
      "outputs": [
        {
          "output_type": "stream",
          "text": [
            "This is an example of a patient X-ray who does not have pneumonia:\n"
          ],
          "name": "stdout"
        },
        {
          "output_type": "execute_result",
          "data": {
            "text/plain": [
              "<matplotlib.image.AxesImage at 0x7f6b59cfb898>"
            ]
          },
          "metadata": {
            "tags": []
          },
          "execution_count": 8
        },
        {
          "output_type": "display_data",
          "data": {
            "image/png": "[encoded data removed]",
            "text/plain": [
              "<Figure size 432x288 with 1 Axes>"
            ]
          },
          "metadata": {
            "tags": [],
            "needs_background": "light"
          }
        }
      ]
    },
    {
      "cell_type": "code",
      "metadata": {
        "id": "PyQy1qh-PiNU",
        "colab_type": "code",
        "colab": {}
      },
      "source": [
        "#from keras.utils.np_utils import to_categorical\n",
        "#Y = to_categorical(Y, num_classes = 2) "
      ],
      "execution_count": 0,
      "outputs": []
    },
    {
      "cell_type": "code",
      "metadata": {
        "id": "LdlYrkz8MJdL",
        "colab_type": "code",
        "colab": {}
      },
      "source": [
        "from sklearn.model_selection import train_test_split\n",
        "X_train, X_test, Y_train, Y_test = train_test_split(np.array(X),np.array(Y), test_size=0.2, random_state=42)\n"
      ],
      "execution_count": 0,
      "outputs": []
    },
    {
      "cell_type": "code",
      "metadata": {
        "id": "UR5tmRenOxZS",
        "colab_type": "code",
        "outputId": "e21aa0dc-7160-40c4-f3fd-bfe3523f79b8",
        "colab": {
          "base_uri": "https://localhost:8080/",
          "height": 34
        }
      },
      "source": [
        "\n",
        "Y_train.shape"
      ],
      "execution_count": 11,
      "outputs": [
        {
          "output_type": "execute_result",
          "data": {
            "text/plain": [
              "(4672,)"
            ]
          },
          "metadata": {
            "tags": []
          },
          "execution_count": 11
        }
      ]
    },
    {
      "cell_type": "code",
      "metadata": {
        "id": "sP8NLRiNqJQC",
        "colab_type": "code",
        "colab": {}
      },
      "source": [
        "from tensorflow.keras.datasets import cifar10\n",
        "from tensorflow.keras.models import Sequential\n",
        "from tensorflow.keras.layers import Dense, Flatten, Conv2D, MaxPooling2D,Activation,Dropout\n",
        "from tensorflow.keras.losses import sparse_categorical_crossentropy\n",
        "from tensorflow.keras.optimizers import Adam\n",
        "from sklearn.model_selection import StratifiedKFold\n",
        "import numpy as np"
      ],
      "execution_count": 0,
      "outputs": []
    },
    {
      "cell_type": "code",
      "metadata": {
        "id": "pPy_7VR2O1_W",
        "colab_type": "code",
        "colab": {}
      },
      "source": [
        "model = Sequential()\n",
        "model.add(Conv2D(32, (3, 3), padding='same',\n",
        "                 input_shape=(64,64,3)))\n",
        "model.add(Activation('relu'))\n",
        "model.add(Conv2D(32, (3, 3)))\n",
        "model.add(Activation('relu'))\n",
        "model.add(MaxPooling2D(pool_size=(2, 2)))\n",
        "model.add(Dropout(0.25))\n",
        "\n",
        "model.add(Conv2D(64, (3, 3), padding='same'))\n",
        "model.add(Activation('relu'))\n",
        "model.add(Conv2D(64, (3, 3)))\n",
        "model.add(Activation('relu'))\n",
        "model.add(MaxPooling2D(pool_size=(2, 2)))\n",
        "model.add(Dropout(0.25))\n",
        "\n",
        "model.add(Flatten())\n",
        "model.add(Dense(512))\n",
        "model.add(Activation('relu'))\n",
        "model.add(Dropout(0.5))\n",
        "model.add(Dense(1))\n",
        "model.add(Activation('sigmoid'))"
      ],
      "execution_count": 0,
      "outputs": []
    },
    {
      "cell_type": "code",
      "metadata": {
        "id": "tX9eccxsQPcd",
        "colab_type": "code",
        "colab": {}
      },
      "source": [
        "model.compile(loss='binary_crossentropy', optimizer='adam', metrics=['accuracy'])"
      ],
      "execution_count": 0,
      "outputs": []
    },
    {
      "cell_type": "code",
      "metadata": {
        "id": "YugExNc9oC0S",
        "colab_type": "code",
        "colab": {}
      },
      "source": [
        "# Model configuration\n",
        "batch_size = 50\n",
        "no_epochs = 25\n",
        "validation_split = 0.2\n",
        "verbosity = 1\n",
        "num_folds = 5"
      ],
      "execution_count": 0,
      "outputs": []
    },
    {
      "cell_type": "code",
      "metadata": {
        "id": "AD2MyFoGmzqz",
        "colab_type": "code",
        "colab": {
          "base_uri": "https://localhost:8080/",
          "height": 1000
        },
        "outputId": "93b9d2b6-7914-4026-fd8c-5df12361fbd3"
      },
      "source": [
        "# Define per-fold score containers\n",
        "acc_per_fold = []\n",
        "loss_per_fold = []\n",
        "\n",
        "# Merge inputs and targets\n",
        "inputs = np.concatenate((X_train, X_test), axis=0)\n",
        "targets = np.concatenate((Y_train, Y_test), axis=0)\n",
        "\n",
        "# Define the K-fold Cross Validator\n",
        "kfold = StratifiedKFold(n_splits=num_folds, shuffle=True)\n",
        "\n",
        "# K-fold Cross Validation model evaluation\n",
        "fold_no = 1\n",
        "for train, test in kfold.split(inputs, targets):\n",
        "   # Generate a print\n",
        "  print('------------------------------------------------------------------------')\n",
        "  print(f'Training for fold {fold_no} ...')\n",
        "\n",
        "  # Fit data to model\n",
        "  history = model.fit(inputs[train], targets[train],\n",
        "              batch_size=batch_size,\n",
        "              epochs=no_epochs,\n",
        "              verbose=verbosity,\n",
        "              validation_split=validation_split)\n",
        "\n",
        "  # Generate generalization metrics\n",
        "  scores = model.evaluate(inputs[test], targets[test], verbose=0)\n",
        "  print(f'Score for fold {fold_no}: {model.metrics_names[0]} of {scores[0]}; {model.metrics_names[1]} of {scores[1]*100}%')\n",
        "  acc_per_fold.append(scores[1] * 100)\n",
        "  loss_per_fold.append(scores[0])\n",
        "\n",
        "  # Increase fold number\n",
        "  fold_no = fold_no + 1"
      ],
      "execution_count": 23,
      "outputs": [
        {
          "output_type": "stream",
          "text": [
            "------------------------------------------------------------------------\n",
            "Training for fold 1 ...\n",
            "Epoch 1/25\n",
            "75/75 [==============================] - 2s 24ms/step - loss: 7.1426 - accuracy: 0.7704 - val_loss: 0.2304 - val_accuracy: 0.9112\n",
            "Epoch 2/25\n",
            "75/75 [==============================] - 2s 22ms/step - loss: 0.2745 - accuracy: 0.8903 - val_loss: 0.2146 - val_accuracy: 0.9401\n",
            "Epoch 3/25\n",
            "75/75 [==============================] - 2s 22ms/step - loss: 0.2358 - accuracy: 0.9085 - val_loss: 0.1628 - val_accuracy: 0.9422\n",
            "Epoch 4/25\n",
            "75/75 [==============================] - 2s 22ms/step - loss: 0.2022 - accuracy: 0.9275 - val_loss: 0.1453 - val_accuracy: 0.9487\n",
            "Epoch 5/25\n",
            "75/75 [==============================] - 2s 22ms/step - loss: 0.2033 - accuracy: 0.9192 - val_loss: 0.1576 - val_accuracy: 0.9422\n",
            "Epoch 6/25\n",
            "75/75 [==============================] - 2s 22ms/step - loss: 0.1612 - accuracy: 0.9379 - val_loss: 0.1084 - val_accuracy: 0.9551\n",
            "Epoch 7/25\n",
            "75/75 [==============================] - 2s 22ms/step - loss: 0.1564 - accuracy: 0.9430 - val_loss: 0.1215 - val_accuracy: 0.9551\n",
            "Epoch 8/25\n",
            "75/75 [==============================] - 2s 22ms/step - loss: 0.1498 - accuracy: 0.9427 - val_loss: 0.1117 - val_accuracy: 0.9583\n",
            "Epoch 9/25\n",
            "75/75 [==============================] - 2s 22ms/step - loss: 0.1364 - accuracy: 0.9454 - val_loss: 0.1068 - val_accuracy: 0.9561\n",
            "Epoch 10/25\n",
            "75/75 [==============================] - 2s 22ms/step - loss: 0.1424 - accuracy: 0.9465 - val_loss: 0.1010 - val_accuracy: 0.9679\n",
            "Epoch 11/25\n",
            "75/75 [==============================] - 2s 22ms/step - loss: 0.1497 - accuracy: 0.9433 - val_loss: 0.1069 - val_accuracy: 0.9647\n",
            "Epoch 12/25\n",
            "75/75 [==============================] - 2s 22ms/step - loss: 0.1234 - accuracy: 0.9542 - val_loss: 0.1259 - val_accuracy: 0.9583\n",
            "Epoch 13/25\n",
            "75/75 [==============================] - 2s 22ms/step - loss: 0.1168 - accuracy: 0.9542 - val_loss: 0.1094 - val_accuracy: 0.9626\n",
            "Epoch 14/25\n",
            "75/75 [==============================] - 2s 22ms/step - loss: 0.1149 - accuracy: 0.9575 - val_loss: 0.0986 - val_accuracy: 0.9583\n",
            "Epoch 15/25\n",
            "75/75 [==============================] - 2s 22ms/step - loss: 0.1076 - accuracy: 0.9548 - val_loss: 0.0916 - val_accuracy: 0.9658\n",
            "Epoch 16/25\n",
            "75/75 [==============================] - 2s 22ms/step - loss: 0.1056 - accuracy: 0.9577 - val_loss: 0.0995 - val_accuracy: 0.9604\n",
            "Epoch 17/25\n",
            "75/75 [==============================] - 2s 22ms/step - loss: 0.0995 - accuracy: 0.9647 - val_loss: 0.1258 - val_accuracy: 0.9529\n",
            "Epoch 18/25\n",
            "75/75 [==============================] - 2s 22ms/step - loss: 0.1072 - accuracy: 0.9601 - val_loss: 0.1188 - val_accuracy: 0.9519\n",
            "Epoch 19/25\n",
            "75/75 [==============================] - 2s 22ms/step - loss: 0.0979 - accuracy: 0.9604 - val_loss: 0.1028 - val_accuracy: 0.9540\n",
            "Epoch 20/25\n",
            "75/75 [==============================] - 2s 22ms/step - loss: 0.0959 - accuracy: 0.9620 - val_loss: 0.1299 - val_accuracy: 0.9508\n",
            "Epoch 21/25\n",
            "75/75 [==============================] - 2s 22ms/step - loss: 0.0991 - accuracy: 0.9601 - val_loss: 0.0887 - val_accuracy: 0.9658\n",
            "Epoch 22/25\n",
            "75/75 [==============================] - 2s 22ms/step - loss: 0.1057 - accuracy: 0.9599 - val_loss: 0.1442 - val_accuracy: 0.9465\n",
            "Epoch 23/25\n",
            "75/75 [==============================] - 2s 22ms/step - loss: 0.0997 - accuracy: 0.9620 - val_loss: 0.1445 - val_accuracy: 0.9508\n",
            "Epoch 24/25\n",
            "75/75 [==============================] - 2s 22ms/step - loss: 0.0932 - accuracy: 0.9620 - val_loss: 0.1171 - val_accuracy: 0.9594\n",
            "Epoch 25/25\n",
            "75/75 [==============================] - 2s 22ms/step - loss: 0.0881 - accuracy: 0.9663 - val_loss: 0.0932 - val_accuracy: 0.9679\n",
            "Score for fold 1: loss of 0.10763366520404816; accuracy of 96.31849527359009%\n",
            "------------------------------------------------------------------------\n",
            "Training for fold 2 ...\n",
            "Epoch 1/25\n",
            "75/75 [==============================] - 2s 22ms/step - loss: 0.0858 - accuracy: 0.9684 - val_loss: 0.1015 - val_accuracy: 0.9658\n",
            "Epoch 2/25\n",
            "75/75 [==============================] - 2s 22ms/step - loss: 0.0800 - accuracy: 0.9724 - val_loss: 0.1005 - val_accuracy: 0.9647\n",
            "Epoch 3/25\n",
            "75/75 [==============================] - 2s 22ms/step - loss: 0.0760 - accuracy: 0.9703 - val_loss: 0.1042 - val_accuracy: 0.9615\n",
            "Epoch 4/25\n",
            "75/75 [==============================] - 2s 22ms/step - loss: 0.0773 - accuracy: 0.9668 - val_loss: 0.1043 - val_accuracy: 0.9636\n",
            "Epoch 5/25\n",
            "75/75 [==============================] - 2s 22ms/step - loss: 0.0758 - accuracy: 0.9738 - val_loss: 0.1061 - val_accuracy: 0.9668\n",
            "Epoch 6/25\n",
            "75/75 [==============================] - 2s 22ms/step - loss: 0.0685 - accuracy: 0.9754 - val_loss: 0.1142 - val_accuracy: 0.9615\n",
            "Epoch 7/25\n",
            "75/75 [==============================] - 2s 22ms/step - loss: 0.0645 - accuracy: 0.9762 - val_loss: 0.1058 - val_accuracy: 0.9658\n",
            "Epoch 8/25\n",
            "75/75 [==============================] - 2s 22ms/step - loss: 0.0644 - accuracy: 0.9746 - val_loss: 0.1364 - val_accuracy: 0.9551\n",
            "Epoch 9/25\n",
            "75/75 [==============================] - 2s 22ms/step - loss: 0.0635 - accuracy: 0.9743 - val_loss: 0.1111 - val_accuracy: 0.9658\n",
            "Epoch 10/25\n",
            "75/75 [==============================] - 2s 22ms/step - loss: 0.0570 - accuracy: 0.9759 - val_loss: 0.1172 - val_accuracy: 0.9647\n",
            "Epoch 11/25\n",
            "75/75 [==============================] - 2s 22ms/step - loss: 0.0460 - accuracy: 0.9823 - val_loss: 0.1454 - val_accuracy: 0.9647\n",
            "Epoch 12/25\n",
            "75/75 [==============================] - 2s 22ms/step - loss: 0.0561 - accuracy: 0.9773 - val_loss: 0.1200 - val_accuracy: 0.9615\n",
            "Epoch 13/25\n",
            "75/75 [==============================] - 2s 22ms/step - loss: 0.0702 - accuracy: 0.9730 - val_loss: 0.1162 - val_accuracy: 0.9551\n",
            "Epoch 14/25\n",
            "75/75 [==============================] - 2s 22ms/step - loss: 0.0741 - accuracy: 0.9719 - val_loss: 0.1104 - val_accuracy: 0.9615\n",
            "Epoch 15/25\n",
            "75/75 [==============================] - 2s 22ms/step - loss: 0.0640 - accuracy: 0.9756 - val_loss: 0.1528 - val_accuracy: 0.9561\n",
            "Epoch 16/25\n",
            "75/75 [==============================] - 2s 22ms/step - loss: 0.0700 - accuracy: 0.9767 - val_loss: 0.1141 - val_accuracy: 0.9604\n",
            "Epoch 17/25\n",
            "75/75 [==============================] - 2s 22ms/step - loss: 0.0492 - accuracy: 0.9805 - val_loss: 0.1267 - val_accuracy: 0.9658\n",
            "Epoch 18/25\n",
            "75/75 [==============================] - 2s 22ms/step - loss: 0.0566 - accuracy: 0.9770 - val_loss: 0.1432 - val_accuracy: 0.9615\n",
            "Epoch 19/25\n",
            "75/75 [==============================] - 2s 22ms/step - loss: 0.0410 - accuracy: 0.9847 - val_loss: 0.1330 - val_accuracy: 0.9658\n",
            "Epoch 20/25\n",
            "75/75 [==============================] - 2s 22ms/step - loss: 0.0476 - accuracy: 0.9847 - val_loss: 0.1082 - val_accuracy: 0.9690\n",
            "Epoch 21/25\n",
            "75/75 [==============================] - 2s 22ms/step - loss: 0.0504 - accuracy: 0.9818 - val_loss: 0.1442 - val_accuracy: 0.9636\n",
            "Epoch 22/25\n",
            "75/75 [==============================] - 2s 22ms/step - loss: 0.0499 - accuracy: 0.9823 - val_loss: 0.1504 - val_accuracy: 0.9551\n",
            "Epoch 23/25\n",
            "75/75 [==============================] - 2s 22ms/step - loss: 0.0618 - accuracy: 0.9751 - val_loss: 0.1191 - val_accuracy: 0.9658\n",
            "Epoch 24/25\n",
            "75/75 [==============================] - 2s 22ms/step - loss: 0.0496 - accuracy: 0.9807 - val_loss: 0.1235 - val_accuracy: 0.9679\n",
            "Epoch 25/25\n",
            "75/75 [==============================] - 2s 22ms/step - loss: 0.0321 - accuracy: 0.9874 - val_loss: 0.1446 - val_accuracy: 0.9561\n",
            "Score for fold 2: loss of 0.1012086421251297; accuracy of 96.5753436088562%\n",
            "------------------------------------------------------------------------\n",
            "Training for fold 3 ...\n",
            "Epoch 1/25\n",
            "75/75 [==============================] - 2s 22ms/step - loss: 0.0836 - accuracy: 0.9740 - val_loss: 0.1305 - val_accuracy: 0.9615\n",
            "Epoch 2/25\n",
            "75/75 [==============================] - 2s 22ms/step - loss: 0.0692 - accuracy: 0.9756 - val_loss: 0.1252 - val_accuracy: 0.9583\n",
            "Epoch 3/25\n",
            "75/75 [==============================] - 2s 22ms/step - loss: 0.0545 - accuracy: 0.9805 - val_loss: 0.1219 - val_accuracy: 0.9572\n",
            "Epoch 4/25\n",
            "75/75 [==============================] - 2s 22ms/step - loss: 0.0623 - accuracy: 0.9759 - val_loss: 0.1127 - val_accuracy: 0.9647\n",
            "Epoch 5/25\n",
            "75/75 [==============================] - 2s 22ms/step - loss: 0.0660 - accuracy: 0.9783 - val_loss: 0.1433 - val_accuracy: 0.9476\n",
            "Epoch 6/25\n",
            "75/75 [==============================] - 2s 22ms/step - loss: 0.0503 - accuracy: 0.9823 - val_loss: 0.1351 - val_accuracy: 0.9604\n",
            "Epoch 7/25\n",
            "75/75 [==============================] - 2s 22ms/step - loss: 0.0508 - accuracy: 0.9813 - val_loss: 0.1315 - val_accuracy: 0.9594\n",
            "Epoch 8/25\n",
            "75/75 [==============================] - 2s 22ms/step - loss: 0.0425 - accuracy: 0.9842 - val_loss: 0.1045 - val_accuracy: 0.9636\n",
            "Epoch 9/25\n",
            "75/75 [==============================] - 2s 22ms/step - loss: 0.0391 - accuracy: 0.9858 - val_loss: 0.1703 - val_accuracy: 0.9583\n",
            "Epoch 10/25\n",
            "75/75 [==============================] - 2s 22ms/step - loss: 0.0536 - accuracy: 0.9797 - val_loss: 0.1370 - val_accuracy: 0.9604\n",
            "Epoch 11/25\n",
            "75/75 [==============================] - 2s 22ms/step - loss: 0.0352 - accuracy: 0.9858 - val_loss: 0.1593 - val_accuracy: 0.9551\n",
            "Epoch 12/25\n",
            "75/75 [==============================] - 2s 22ms/step - loss: 0.0419 - accuracy: 0.9864 - val_loss: 0.1384 - val_accuracy: 0.9594\n",
            "Epoch 13/25\n",
            "75/75 [==============================] - 2s 22ms/step - loss: 0.0439 - accuracy: 0.9866 - val_loss: 0.1513 - val_accuracy: 0.9594\n",
            "Epoch 14/25\n",
            "75/75 [==============================] - 2s 22ms/step - loss: 0.0390 - accuracy: 0.9853 - val_loss: 0.1310 - val_accuracy: 0.9540\n",
            "Epoch 15/25\n",
            "75/75 [==============================] - 2s 22ms/step - loss: 0.0276 - accuracy: 0.9890 - val_loss: 0.1462 - val_accuracy: 0.9529\n",
            "Epoch 16/25\n",
            "75/75 [==============================] - 2s 22ms/step - loss: 0.0295 - accuracy: 0.9904 - val_loss: 0.1770 - val_accuracy: 0.9636\n",
            "Epoch 17/25\n",
            "75/75 [==============================] - 2s 22ms/step - loss: 0.0486 - accuracy: 0.9834 - val_loss: 0.1364 - val_accuracy: 0.9551\n",
            "Epoch 18/25\n",
            "75/75 [==============================] - 2s 22ms/step - loss: 0.0433 - accuracy: 0.9850 - val_loss: 0.1246 - val_accuracy: 0.9583\n",
            "Epoch 19/25\n",
            "75/75 [==============================] - 2s 22ms/step - loss: 0.0309 - accuracy: 0.9882 - val_loss: 0.1693 - val_accuracy: 0.9519\n",
            "Epoch 20/25\n",
            "75/75 [==============================] - 2s 22ms/step - loss: 0.0529 - accuracy: 0.9831 - val_loss: 0.1454 - val_accuracy: 0.9583\n",
            "Epoch 21/25\n",
            "75/75 [==============================] - 2s 22ms/step - loss: 0.0419 - accuracy: 0.9877 - val_loss: 0.1557 - val_accuracy: 0.9529\n",
            "Epoch 22/25\n",
            "75/75 [==============================] - 2s 22ms/step - loss: 0.0605 - accuracy: 0.9807 - val_loss: 0.1888 - val_accuracy: 0.9626\n",
            "Epoch 23/25\n",
            "75/75 [==============================] - 2s 22ms/step - loss: 0.0317 - accuracy: 0.9893 - val_loss: 0.1571 - val_accuracy: 0.9594\n",
            "Epoch 24/25\n",
            "75/75 [==============================] - 2s 22ms/step - loss: 0.0224 - accuracy: 0.9914 - val_loss: 0.2040 - val_accuracy: 0.9594\n",
            "Epoch 25/25\n",
            "75/75 [==============================] - 2s 22ms/step - loss: 0.0308 - accuracy: 0.9882 - val_loss: 0.1428 - val_accuracy: 0.9594\n",
            "Score for fold 3: loss of 0.03735018149018288; accuracy of 98.54452013969421%\n",
            "------------------------------------------------------------------------\n",
            "Training for fold 4 ...\n",
            "Epoch 1/25\n",
            "75/75 [==============================] - 2s 22ms/step - loss: 0.0654 - accuracy: 0.9794 - val_loss: 0.1114 - val_accuracy: 0.9722\n",
            "Epoch 2/25\n",
            "75/75 [==============================] - 2s 22ms/step - loss: 0.0361 - accuracy: 0.9885 - val_loss: 0.1278 - val_accuracy: 0.9679\n",
            "Epoch 3/25\n",
            "75/75 [==============================] - 2s 22ms/step - loss: 0.0406 - accuracy: 0.9855 - val_loss: 0.1337 - val_accuracy: 0.9658\n",
            "Epoch 4/25\n",
            "75/75 [==============================] - 2s 22ms/step - loss: 0.0328 - accuracy: 0.9893 - val_loss: 0.1212 - val_accuracy: 0.9690\n",
            "Epoch 5/25\n",
            "75/75 [==============================] - 2s 22ms/step - loss: 0.0370 - accuracy: 0.9869 - val_loss: 0.1041 - val_accuracy: 0.9722\n",
            "Epoch 6/25\n",
            "75/75 [==============================] - 2s 23ms/step - loss: 0.0354 - accuracy: 0.9885 - val_loss: 0.1104 - val_accuracy: 0.9626\n",
            "Epoch 7/25\n",
            "75/75 [==============================] - 2s 22ms/step - loss: 0.0430 - accuracy: 0.9831 - val_loss: 0.1125 - val_accuracy: 0.9701\n",
            "Epoch 8/25\n",
            "75/75 [==============================] - 2s 22ms/step - loss: 0.0325 - accuracy: 0.9861 - val_loss: 0.0990 - val_accuracy: 0.9658\n",
            "Epoch 9/25\n",
            "75/75 [==============================] - 2s 22ms/step - loss: 0.0357 - accuracy: 0.9890 - val_loss: 0.0914 - val_accuracy: 0.9690\n",
            "Epoch 10/25\n",
            "75/75 [==============================] - 2s 22ms/step - loss: 0.0411 - accuracy: 0.9864 - val_loss: 0.1195 - val_accuracy: 0.9572\n",
            "Epoch 11/25\n",
            "75/75 [==============================] - 2s 22ms/step - loss: 0.0783 - accuracy: 0.9775 - val_loss: 0.1648 - val_accuracy: 0.9508\n",
            "Epoch 12/25\n",
            "75/75 [==============================] - 2s 22ms/step - loss: 0.0380 - accuracy: 0.9882 - val_loss: 0.1144 - val_accuracy: 0.9701\n",
            "Epoch 13/25\n",
            "75/75 [==============================] - 2s 22ms/step - loss: 0.0296 - accuracy: 0.9901 - val_loss: 0.1418 - val_accuracy: 0.9679\n",
            "Epoch 14/25\n",
            "75/75 [==============================] - 2s 22ms/step - loss: 0.0389 - accuracy: 0.9861 - val_loss: 0.1277 - val_accuracy: 0.9636\n",
            "Epoch 15/25\n",
            "75/75 [==============================] - 2s 22ms/step - loss: 0.0277 - accuracy: 0.9909 - val_loss: 0.1259 - val_accuracy: 0.9668\n",
            "Epoch 16/25\n",
            "75/75 [==============================] - 2s 22ms/step - loss: 0.0201 - accuracy: 0.9944 - val_loss: 0.1372 - val_accuracy: 0.9626\n",
            "Epoch 17/25\n",
            "75/75 [==============================] - 2s 22ms/step - loss: 0.0176 - accuracy: 0.9944 - val_loss: 0.1312 - val_accuracy: 0.9668\n",
            "Epoch 18/25\n",
            "75/75 [==============================] - 2s 22ms/step - loss: 0.0325 - accuracy: 0.9885 - val_loss: 0.1211 - val_accuracy: 0.9701\n",
            "Epoch 19/25\n",
            "75/75 [==============================] - 2s 22ms/step - loss: 0.0273 - accuracy: 0.9896 - val_loss: 0.1825 - val_accuracy: 0.9636\n",
            "Epoch 20/25\n",
            "75/75 [==============================] - 2s 22ms/step - loss: 0.0377 - accuracy: 0.9855 - val_loss: 0.1683 - val_accuracy: 0.9594\n",
            "Epoch 21/25\n",
            "75/75 [==============================] - 2s 22ms/step - loss: 0.0344 - accuracy: 0.9874 - val_loss: 0.1424 - val_accuracy: 0.9572\n",
            "Epoch 22/25\n",
            "75/75 [==============================] - 2s 22ms/step - loss: 0.0406 - accuracy: 0.9882 - val_loss: 0.1384 - val_accuracy: 0.9658\n",
            "Epoch 23/25\n",
            "75/75 [==============================] - 2s 22ms/step - loss: 0.0581 - accuracy: 0.9778 - val_loss: 0.1828 - val_accuracy: 0.9615\n",
            "Epoch 24/25\n",
            "75/75 [==============================] - 2s 22ms/step - loss: 0.0423 - accuracy: 0.9877 - val_loss: 0.1910 - val_accuracy: 0.9594\n",
            "Epoch 25/25\n",
            "75/75 [==============================] - 2s 22ms/step - loss: 0.0309 - accuracy: 0.9893 - val_loss: 0.2053 - val_accuracy: 0.9615\n",
            "Score for fold 4: loss of 0.06237680837512016; accuracy of 98.2876718044281%\n",
            "------------------------------------------------------------------------\n",
            "Training for fold 5 ...\n",
            "Epoch 1/25\n",
            "75/75 [==============================] - 2s 22ms/step - loss: 0.0521 - accuracy: 0.9853 - val_loss: 0.1270 - val_accuracy: 0.9594\n",
            "Epoch 2/25\n",
            "75/75 [==============================] - 2s 22ms/step - loss: 0.0426 - accuracy: 0.9850 - val_loss: 0.1354 - val_accuracy: 0.9647\n",
            "Epoch 3/25\n",
            "75/75 [==============================] - 2s 22ms/step - loss: 0.0330 - accuracy: 0.9880 - val_loss: 0.1266 - val_accuracy: 0.9690\n",
            "Epoch 4/25\n",
            "75/75 [==============================] - 2s 22ms/step - loss: 0.0392 - accuracy: 0.9882 - val_loss: 0.1260 - val_accuracy: 0.9658\n",
            "Epoch 5/25\n",
            "75/75 [==============================] - 2s 22ms/step - loss: 0.0205 - accuracy: 0.9909 - val_loss: 0.1685 - val_accuracy: 0.9668\n",
            "Epoch 6/25\n",
            "75/75 [==============================] - 2s 22ms/step - loss: 0.0335 - accuracy: 0.9880 - val_loss: 0.1237 - val_accuracy: 0.9604\n",
            "Epoch 7/25\n",
            "75/75 [==============================] - 2s 22ms/step - loss: 0.0326 - accuracy: 0.9872 - val_loss: 0.1129 - val_accuracy: 0.9690\n",
            "Epoch 8/25\n",
            "75/75 [==============================] - 2s 22ms/step - loss: 0.0212 - accuracy: 0.9920 - val_loss: 0.1558 - val_accuracy: 0.9636\n",
            "Epoch 9/25\n",
            "75/75 [==============================] - 2s 22ms/step - loss: 0.0256 - accuracy: 0.9898 - val_loss: 0.1911 - val_accuracy: 0.9572\n",
            "Epoch 10/25\n",
            "75/75 [==============================] - 2s 22ms/step - loss: 0.0234 - accuracy: 0.9930 - val_loss: 0.1496 - val_accuracy: 0.9668\n",
            "Epoch 11/25\n",
            "75/75 [==============================] - 2s 22ms/step - loss: 0.0275 - accuracy: 0.9904 - val_loss: 0.1367 - val_accuracy: 0.9679\n",
            "Epoch 12/25\n",
            "75/75 [==============================] - 2s 22ms/step - loss: 0.0375 - accuracy: 0.9898 - val_loss: 0.1768 - val_accuracy: 0.9561\n",
            "Epoch 13/25\n",
            "75/75 [==============================] - 2s 22ms/step - loss: 0.0193 - accuracy: 0.9928 - val_loss: 0.1824 - val_accuracy: 0.9604\n",
            "Epoch 14/25\n",
            "75/75 [==============================] - 2s 23ms/step - loss: 0.0363 - accuracy: 0.9917 - val_loss: 0.1639 - val_accuracy: 0.9604\n",
            "Epoch 15/25\n",
            "75/75 [==============================] - 2s 23ms/step - loss: 0.0354 - accuracy: 0.9877 - val_loss: 0.1767 - val_accuracy: 0.9604\n",
            "Epoch 16/25\n",
            "75/75 [==============================] - 2s 22ms/step - loss: 0.0188 - accuracy: 0.9922 - val_loss: 0.1717 - val_accuracy: 0.9604\n",
            "Epoch 17/25\n",
            "75/75 [==============================] - 2s 22ms/step - loss: 0.0274 - accuracy: 0.9893 - val_loss: 0.1550 - val_accuracy: 0.9647\n",
            "Epoch 18/25\n",
            "75/75 [==============================] - 2s 22ms/step - loss: 0.0494 - accuracy: 0.9855 - val_loss: 0.1602 - val_accuracy: 0.9636\n",
            "Epoch 19/25\n",
            "75/75 [==============================] - 2s 22ms/step - loss: 0.0379 - accuracy: 0.9858 - val_loss: 0.1271 - val_accuracy: 0.9722\n",
            "Epoch 20/25\n",
            "75/75 [==============================] - 2s 22ms/step - loss: 0.0282 - accuracy: 0.9906 - val_loss: 0.1658 - val_accuracy: 0.9647\n",
            "Epoch 21/25\n",
            "75/75 [==============================] - 2s 22ms/step - loss: 0.0258 - accuracy: 0.9925 - val_loss: 0.1635 - val_accuracy: 0.9647\n",
            "Epoch 22/25\n",
            "75/75 [==============================] - 2s 22ms/step - loss: 0.0265 - accuracy: 0.9928 - val_loss: 0.2213 - val_accuracy: 0.9668\n",
            "Epoch 23/25\n",
            "75/75 [==============================] - 2s 22ms/step - loss: 0.0517 - accuracy: 0.9877 - val_loss: 0.1627 - val_accuracy: 0.9583\n",
            "Epoch 24/25\n",
            "75/75 [==============================] - 2s 22ms/step - loss: 0.0368 - accuracy: 0.9882 - val_loss: 0.1745 - val_accuracy: 0.9604\n",
            "Epoch 25/25\n",
            "75/75 [==============================] - 2s 22ms/step - loss: 0.0308 - accuracy: 0.9890 - val_loss: 0.1723 - val_accuracy: 0.9626\n",
            "Score for fold 5: loss of 0.06884763389825821; accuracy of 98.2876718044281%\n"
          ],
          "name": "stdout"
        }
      ]
    },
    {
      "cell_type": "code",
      "metadata": {
        "id": "5Bc6NCCMnodg",
        "colab_type": "code",
        "colab": {
          "base_uri": "https://localhost:8080/",
          "height": 306
        },
        "outputId": "fd3b01dc-e320-406b-ee12-780360b3ec7c"
      },
      "source": [
        "# == Provide average scores ==\n",
        "print('------------------------------------------------------------------------')\n",
        "print('Score per fold')\n",
        "for i in range(0, len(acc_per_fold)):\n",
        "  print('------------------------------------------------------------------------')\n",
        "  print(f'> Fold {i+1} - Loss: {loss_per_fold[i]} - Accuracy: {acc_per_fold[i]}%')\n",
        "print('------------------------------------------------------------------------')\n",
        "print('Average scores for all folds:')\n",
        "print(f'> Accuracy: {np.mean(acc_per_fold)} (+- {np.std(acc_per_fold)})')\n",
        "print(f'> Loss: {np.mean(loss_per_fold)}')\n",
        "print('------------------------------------------------------------------------')\n"
      ],
      "execution_count": 24,
      "outputs": [
        {
          "output_type": "stream",
          "text": [
            "------------------------------------------------------------------------\n",
            "Score per fold\n",
            "------------------------------------------------------------------------\n",
            "> Fold 1 - Loss: 0.10763366520404816 - Accuracy: 96.31849527359009%\n",
            "------------------------------------------------------------------------\n",
            "> Fold 2 - Loss: 0.1012086421251297 - Accuracy: 96.5753436088562%\n",
            "------------------------------------------------------------------------\n",
            "> Fold 3 - Loss: 0.03735018149018288 - Accuracy: 98.54452013969421%\n",
            "------------------------------------------------------------------------\n",
            "> Fold 4 - Loss: 0.06237680837512016 - Accuracy: 98.2876718044281%\n",
            "------------------------------------------------------------------------\n",
            "> Fold 5 - Loss: 0.06884763389825821 - Accuracy: 98.2876718044281%\n",
            "------------------------------------------------------------------------\n",
            "Average scores for all folds:\n",
            "> Accuracy: 97.60274052619934 (+- 0.9518446140838648)\n",
            "> Loss: 0.07548338621854782\n",
            "------------------------------------------------------------------------\n"
          ],
          "name": "stdout"
        }
      ]
    },
    {
      "cell_type": "code",
      "metadata": {
        "id": "CtkVBaj4RrWo",
        "colab_type": "code",
        "colab": {}
      },
      "source": [
        "#history=model.fit(X_train, Y_train, batch_size=30, epochs=15, validation_data=(X_test, Y_test), verbose=1)"
      ],
      "execution_count": 0,
      "outputs": []
    }
  ]
}